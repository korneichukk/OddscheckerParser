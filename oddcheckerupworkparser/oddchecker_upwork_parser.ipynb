{
 "cells": [
  {
   "cell_type": "code",
   "execution_count": 42,
   "metadata": {},
   "outputs": [],
   "source": [
    "from selenium import webdriver\n",
    "from selenium.webdriver.common.keys import Keys\n",
    "from selenium.webdriver.common.by import By\n",
    "from selenium.webdriver.support.wait import WebDriverWait"
   ]
  },
  {
   "cell_type": "code",
   "execution_count": 13,
   "metadata": {},
   "outputs": [],
   "source": [
    "driver = webdriver.Chrome()\n",
    "driver.maximize_window()"
   ]
  },
  {
   "cell_type": "code",
   "execution_count": 14,
   "metadata": {},
   "outputs": [],
   "source": [
    "driver.get(\"https://www.oddschecker.com/football/english/premier-league/man-utd-v-wolverhampton/winner\")"
   ]
  },
  {
   "cell_type": "code",
   "execution_count": 15,
   "metadata": {},
   "outputs": [],
   "source": [
    "try:\n",
    "    driver.find_element(By.XPATH, '/html/body/div[1]/div/section/h2/span[2]').click()\n",
    "except Exception as e:\n",
    "    print(e)"
   ]
  },
  {
   "cell_type": "code",
   "execution_count": 18,
   "metadata": {},
   "outputs": [],
   "source": [
    "try:\n",
    "    driver.find_element(By.XPATH, '/html/body/div[41]/div/div[1]/button').click()\n",
    "except Exception as e:\n",
    "    print(e)"
   ]
  },
  {
   "cell_type": "code",
   "execution_count": 21,
   "metadata": {},
   "outputs": [],
   "source": [
    "container = driver.find_element(By.XPATH, '/html/body/main/div/div[4]/div/section/section/div[1]/article[1]/section[2]/div/div[2]/div[2]/div')"
   ]
  },
  {
   "cell_type": "code",
   "execution_count": 49,
   "metadata": {},
   "outputs": [],
   "source": [
    "sign_up_offers = container.find_element(By.XPATH, \"/html/body/main/div/div[4]/div/section/section/div[1]/article[1]/section[2]/div/div[2]/div[2]/div/div[2]\")"
   ]
  },
  {
   "cell_type": "code",
   "execution_count": 51,
   "metadata": {},
   "outputs": [],
   "source": [
    "suop_counter = 1\n",
    "pairs = []\n",
    "while True:\n",
    "    try:\n",
    "        pair_divs = sign_up_offers.find_element(\n",
    "            By.XPATH,\n",
    "            f\"/html/body/main/div/div[4]/div/section/section/div[1]/article[1]/section[2]/div/div[2]/div[2]/div/div[2]/div[{suop_counter}]\",\n",
    "        )\n",
    "    except Exception as e:\n",
    "        break\n",
    "    if not pair_divs:\n",
    "        break\n",
    "\n",
    "    bk = pair_divs.get_attribute('data-bk')\n",
    "    pair = pair_divs.text.split(\"\\n\")\n",
    "\n",
    "    suop_counter += 1\n",
    "    pairs.append((pair, bk))"
   ]
  },
  {
   "cell_type": "code",
   "execution_count": 52,
   "metadata": {},
   "outputs": [
    {
     "data": {
      "text/plain": [
       "(28,\n",
       " [(['£30', '1'], 'B3'),\n",
       "  (['£30', '1'], 'SK'),\n",
       "  (['£40', '2'], 'PP'),\n",
       "  (['£60', '1'], 'WH'),\n",
       "  (['£30'], 'EE'),\n",
       "  (['£30'], 'FB'),\n",
       "  (['£40'], 'VC'),\n",
       "  (['£20', '2'], 'CE'),\n",
       "  (['£50', '1'], 'UN'),\n",
       "  (['£300', '1'], 'SX'),\n",
       "  (['£40', '2'], 'FR'),\n",
       "  (['£25', '1'], 'BY'),\n",
       "  (['£50', '1'], 'OE'),\n",
       "  (['£', '4'], 'S6'),\n",
       "  (['£30', '1'], 'DP'),\n",
       "  (['£500'], 'SI'),\n",
       "  (['£20', '1'], 'LS'),\n",
       "  (['£35', '3'], 'QN'),\n",
       "  (['£20', '1'], 'N4'),\n",
       "  (['£30'], 'WA'),\n",
       "  (['£20', '1'], 'LD'),\n",
       "  (['£25'], 'G5'),\n",
       "  (['£20'], 'RM'),\n",
       "  (['£20'], 'VT'),\n",
       "  ([''], None),\n",
       "  (['£20', '1'], 'BF'),\n",
       "  (['£20'], 'MA'),\n",
       "  ([''], None)])"
      ]
     },
     "execution_count": 52,
     "metadata": {},
     "output_type": "execute_result"
    }
   ],
   "source": [
    "len(pairs), pairs"
   ]
  },
  {
   "cell_type": "code",
   "execution_count": 47,
   "metadata": {},
   "outputs": [
    {
     "data": {
      "text/plain": [
       "26"
      ]
     },
     "execution_count": 47,
     "metadata": {},
     "output_type": "execute_result"
    }
   ],
   "source": [
    "team_one = container.find_element(\n",
    "    By.XPATH,\n",
    "    \"/html/body/main/div/div[4]/div/section/section/div[1]/article[1]/section[2]/div/div[2]/div[2]/div/div[4]\",\n",
    ").find_elements(By.TAG_NAME, \"button\")\n",
    "len(team_one)"
   ]
  },
  {
   "cell_type": "code",
   "execution_count": 53,
   "metadata": {},
   "outputs": [
    {
     "data": {
      "text/plain": [
       "26"
      ]
     },
     "execution_count": 53,
     "metadata": {},
     "output_type": "execute_result"
    }
   ],
   "source": [
    "team_draw = container.find_element(\n",
    "    By.XPATH,\n",
    "    \"/html/body/main/div/div[4]/div/section/section/div[1]/article[1]/section[2]/div/div[2]/div[2]/div/div[5]\",\n",
    ").find_elements(By.TAG_NAME, \"button\")\n",
    "len(team_draw)"
   ]
  },
  {
   "cell_type": "code",
   "execution_count": 54,
   "metadata": {},
   "outputs": [
    {
     "data": {
      "text/plain": [
       "26"
      ]
     },
     "execution_count": 54,
     "metadata": {},
     "output_type": "execute_result"
    }
   ],
   "source": [
    "team_two = container.find_element(\n",
    "    By.XPATH,\n",
    "    \"/html/body/main/div/div[4]/div/section/section/div[1]/article[1]/section[2]/div/div[2]/div[2]/div/div[6]\",\n",
    ").find_elements(By.TAG_NAME, \"button\")\n",
    "len(team_two)"
   ]
  },
  {
   "cell_type": "code",
   "execution_count": 57,
   "metadata": {},
   "outputs": [
    {
     "data": {
      "text/plain": [
       "[('2/7', 'B3'),\n",
       " ('1/4', 'SK'),\n",
       " ('2/9', 'PP'),\n",
       " ('1/4', 'WH'),\n",
       " ('1/4', 'EE'),\n",
       " ('1/4', 'FB'),\n",
       " ('1/4', 'VC'),\n",
       " ('2/7', 'CE'),\n",
       " ('27/ 100', 'UN'),\n",
       " ('1/4', 'SX'),\n",
       " ('1/4', 'FR'),\n",
       " ('1/4', 'BY'),\n",
       " ('2/7', 'OE'),\n",
       " ('1/4', 'S6'),\n",
       " ('2/7', 'DP'),\n",
       " ('1/4', 'SI'),\n",
       " ('5/19', 'LS'),\n",
       " ('2/7', 'QN'),\n",
       " ('13/50', 'N4'),\n",
       " ('30/ 100', 'WA'),\n",
       " ('2/7', 'LD'),\n",
       " ('2/7', 'G5'),\n",
       " ('1/4', 'RM'),\n",
       " ('5/18', 'VT'),\n",
       " ('1/3', 'BF'),\n",
       " ('3/10', 'MA')]"
      ]
     },
     "execution_count": 57,
     "metadata": {},
     "output_type": "execute_result"
    }
   ],
   "source": [
    "team_one_bets = []\n",
    "for i in range(len(team_one)):\n",
    "    team_one_bet = team_one[i].text\n",
    "    team_one_bet_bk = team_one[i].get_attribute('data-bk')\n",
    "    team_one_bets.append((team_one_bet, team_one_bet_bk))\n",
    "team_one_bets"
   ]
  },
  {
   "cell_type": "code",
   "execution_count": 58,
   "metadata": {},
   "outputs": [
    {
     "data": {
      "text/plain": [
       "[('5/1', 'B3'),\n",
       " ('5/1', 'SK'),\n",
       " ('9/2', 'PP'),\n",
       " ('24/5', 'WH'),\n",
       " ('5/1', 'EE'),\n",
       " ('5/1', 'FB'),\n",
       " ('5/1', 'VC'),\n",
       " ('9/2', 'CE'),\n",
       " ('24/5', 'UN'),\n",
       " ('5/1', 'SX'),\n",
       " ('5/1', 'FR'),\n",
       " ('9/2', 'BY'),\n",
       " ('5/1', 'OE'),\n",
       " ('5/1', 'S6'),\n",
       " ('5/1', 'DP'),\n",
       " ('9/2', 'SI'),\n",
       " ('5/1', 'LS'),\n",
       " ('5/1', 'QN'),\n",
       " ('49/10', 'N4'),\n",
       " ('5/1', 'WA'),\n",
       " ('9/2', 'LD'),\n",
       " ('5/1', 'G5'),\n",
       " ('5/1', 'RM'),\n",
       " ('26/5', 'VT'),\n",
       " ('26/5', 'BF'),\n",
       " ('27/5', 'MA')]"
      ]
     },
     "execution_count": 58,
     "metadata": {},
     "output_type": "execute_result"
    }
   ],
   "source": [
    "team_draw_bets = []\n",
    "for i in range(len(team_draw)):\n",
    "    team_draw_bet = team_draw[i].text\n",
    "    team_draw_bet_bk = team_draw[i].get_attribute('data-bk')\n",
    "    team_draw_bets.append((team_draw_bet, team_draw_bet_bk))\n",
    "team_draw_bets"
   ]
  },
  {
   "cell_type": "code",
   "execution_count": 59,
   "metadata": {},
   "outputs": [
    {
     "data": {
      "text/plain": [
       "[('9/1', 'B3'),\n",
       " ('8/1', 'SK'),\n",
       " ('10/1', 'PP'),\n",
       " ('10/1', 'WH'),\n",
       " ('10/1', 'EE'),\n",
       " ('10/1', 'FB'),\n",
       " ('11/1', 'VC'),\n",
       " ('10/1', 'CE'),\n",
       " ('21/2', 'UN'),\n",
       " ('10/1', 'SX'),\n",
       " ('10/1', 'FR'),\n",
       " ('10/1', 'BY'),\n",
       " ('10/1', 'OE'),\n",
       " ('10/1', 'S6'),\n",
       " ('11/1', 'DP'),\n",
       " ('10/1', 'SI'),\n",
       " ('19/2', 'LS'),\n",
       " ('10/1', 'QN'),\n",
       " ('21/2', 'N4'),\n",
       " ('11/1', 'WA'),\n",
       " ('10/1', 'LD'),\n",
       " ('10/1', 'G5'),\n",
       " ('11/1', 'RM'),\n",
       " ('10/1', 'VT'),\n",
       " ('59/5', 'BF'),\n",
       " ('12/1', 'MA')]"
      ]
     },
     "execution_count": 59,
     "metadata": {},
     "output_type": "execute_result"
    }
   ],
   "source": [
    "team_two_bets = []\n",
    "for i in range(len(team_two)):\n",
    "    team_two_bet = team_two[i].text\n",
    "    team_two_bet_bk = team_two[i].get_attribute('data-bk')\n",
    "    team_two_bets.append((team_two_bet, team_two_bet_bk))\n",
    "team_two_bets"
   ]
  },
  {
   "cell_type": "code",
   "execution_count": 70,
   "metadata": {},
   "outputs": [
    {
     "data": {
      "text/plain": [
       "[(('2/7', 'B3'), ('5/1', 'B3'), ('9/1', 'B3'), (['£30', '1'], 'B3')),\n",
       " (('1/4', 'SK'), ('5/1', 'SK'), ('8/1', 'SK'), (['£30', '1'], 'SK')),\n",
       " (('2/9', 'PP'), ('9/2', 'PP'), ('10/1', 'PP'), (['£40', '2'], 'PP')),\n",
       " (('1/4', 'WH'), ('24/5', 'WH'), ('10/1', 'WH'), (['£60', '1'], 'WH')),\n",
       " (('1/4', 'EE'), ('5/1', 'EE'), ('10/1', 'EE'), (['£30'], 'EE')),\n",
       " (('1/4', 'FB'), ('5/1', 'FB'), ('10/1', 'FB'), (['£30'], 'FB')),\n",
       " (('1/4', 'VC'), ('5/1', 'VC'), ('11/1', 'VC'), (['£40'], 'VC')),\n",
       " (('2/7', 'CE'), ('9/2', 'CE'), ('10/1', 'CE'), (['£20', '2'], 'CE')),\n",
       " (('27/ 100', 'UN'), ('24/5', 'UN'), ('21/2', 'UN'), (['£50', '1'], 'UN')),\n",
       " (('1/4', 'SX'), ('5/1', 'SX'), ('10/1', 'SX'), (['£300', '1'], 'SX')),\n",
       " (('1/4', 'FR'), ('5/1', 'FR'), ('10/1', 'FR'), (['£40', '2'], 'FR')),\n",
       " (('1/4', 'BY'), ('9/2', 'BY'), ('10/1', 'BY'), (['£25', '1'], 'BY')),\n",
       " (('2/7', 'OE'), ('5/1', 'OE'), ('10/1', 'OE'), (['£50', '1'], 'OE')),\n",
       " (('1/4', 'S6'), ('5/1', 'S6'), ('10/1', 'S6'), (['£', '4'], 'S6')),\n",
       " (('2/7', 'DP'), ('5/1', 'DP'), ('11/1', 'DP'), (['£30', '1'], 'DP')),\n",
       " (('1/4', 'SI'), ('9/2', 'SI'), ('10/1', 'SI'), (['£500'], 'SI')),\n",
       " (('5/19', 'LS'), ('5/1', 'LS'), ('19/2', 'LS'), (['£20', '1'], 'LS')),\n",
       " (('2/7', 'QN'), ('5/1', 'QN'), ('10/1', 'QN'), (['£35', '3'], 'QN')),\n",
       " (('13/50', 'N4'), ('49/10', 'N4'), ('21/2', 'N4'), (['£20', '1'], 'N4')),\n",
       " (('30/ 100', 'WA'), ('5/1', 'WA'), ('11/1', 'WA'), (['£30'], 'WA')),\n",
       " (('2/7', 'LD'), ('9/2', 'LD'), ('10/1', 'LD'), (['£20', '1'], 'LD')),\n",
       " (('2/7', 'G5'), ('5/1', 'G5'), ('10/1', 'G5'), (['£25'], 'G5')),\n",
       " (('1/4', 'RM'), ('5/1', 'RM'), ('11/1', 'RM'), (['£20'], 'RM')),\n",
       " (('5/18', 'VT'), ('26/5', 'VT'), ('10/1', 'VT'), (['£20'], 'VT')),\n",
       " (('1/3', 'BF'), ('26/5', 'BF'), ('59/5', 'BF'), (['£20', '1'], 'BF')),\n",
       " (('3/10', 'MA'), ('27/5', 'MA'), ('12/1', 'MA'), (['£20'], 'MA'))]"
      ]
     },
     "execution_count": 70,
     "metadata": {},
     "output_type": "execute_result"
    }
   ],
   "source": [
    "team_bets = list(zip(team_one_bets, team_draw_bets, team_two_bets, [p for p in pairs if p[-1]]))\n",
    "team_bets"
   ]
  },
  {
   "cell_type": "code",
   "execution_count": 79,
   "metadata": {},
   "outputs": [
    {
     "data": {
      "text/plain": [
       "['Man Utd', 'Draw', 'Wolverhampton']"
      ]
     },
     "execution_count": 79,
     "metadata": {},
     "output_type": "execute_result"
    }
   ],
   "source": [
    "teams = container.find_element(By.XPATH, \"/html/body/main/div/div[4]/div/section/section/div[1]/article[1]/section[2]/div/div[2]/div[1]/div[3]\").find_elements(By.TAG_NAME, \"a\")\n",
    "teams_names = [t.text for t in teams]\n",
    "teams_names"
   ]
  },
  {
   "cell_type": "code",
   "execution_count": 81,
   "metadata": {},
   "outputs": [
    {
     "name": "stdout",
     "output_type": "stream",
     "text": [
      "BK: B3\n",
      "BK bonuses: ['£30', '1']\n",
      "Man Utd: 2/7\n",
      "Draw: 5/1\n",
      "Wolverhampton: 9/1\n",
      "BK: SK\n",
      "BK bonuses: ['£30', '1']\n",
      "Man Utd: 1/4\n",
      "Draw: 5/1\n",
      "Wolverhampton: 8/1\n",
      "BK: PP\n",
      "BK bonuses: ['£40', '2']\n",
      "Man Utd: 2/9\n",
      "Draw: 9/2\n",
      "Wolverhampton: 10/1\n",
      "BK: WH\n",
      "BK bonuses: ['£60', '1']\n",
      "Man Utd: 1/4\n",
      "Draw: 24/5\n",
      "Wolverhampton: 10/1\n",
      "BK: EE\n",
      "BK bonuses: ['£30']\n",
      "Man Utd: 1/4\n",
      "Draw: 5/1\n",
      "Wolverhampton: 10/1\n",
      "BK: FB\n",
      "BK bonuses: ['£30']\n",
      "Man Utd: 1/4\n",
      "Draw: 5/1\n",
      "Wolverhampton: 10/1\n",
      "BK: VC\n",
      "BK bonuses: ['£40']\n",
      "Man Utd: 1/4\n",
      "Draw: 5/1\n",
      "Wolverhampton: 11/1\n",
      "BK: CE\n",
      "BK bonuses: ['£20', '2']\n",
      "Man Utd: 2/7\n",
      "Draw: 9/2\n",
      "Wolverhampton: 10/1\n",
      "BK: UN\n",
      "BK bonuses: ['£50', '1']\n",
      "Man Utd: 27/ 100\n",
      "Draw: 24/5\n",
      "Wolverhampton: 21/2\n",
      "BK: SX\n",
      "BK bonuses: ['£300', '1']\n",
      "Man Utd: 1/4\n",
      "Draw: 5/1\n",
      "Wolverhampton: 10/1\n",
      "BK: FR\n",
      "BK bonuses: ['£40', '2']\n",
      "Man Utd: 1/4\n",
      "Draw: 5/1\n",
      "Wolverhampton: 10/1\n",
      "BK: BY\n",
      "BK bonuses: ['£25', '1']\n",
      "Man Utd: 1/4\n",
      "Draw: 9/2\n",
      "Wolverhampton: 10/1\n",
      "BK: OE\n",
      "BK bonuses: ['£50', '1']\n",
      "Man Utd: 2/7\n",
      "Draw: 5/1\n",
      "Wolverhampton: 10/1\n",
      "BK: S6\n",
      "BK bonuses: ['£', '4']\n",
      "Man Utd: 1/4\n",
      "Draw: 5/1\n",
      "Wolverhampton: 10/1\n",
      "BK: DP\n",
      "BK bonuses: ['£30', '1']\n",
      "Man Utd: 2/7\n",
      "Draw: 5/1\n",
      "Wolverhampton: 11/1\n",
      "BK: SI\n",
      "BK bonuses: ['£500']\n",
      "Man Utd: 1/4\n",
      "Draw: 9/2\n",
      "Wolverhampton: 10/1\n",
      "BK: LS\n",
      "BK bonuses: ['£20', '1']\n",
      "Man Utd: 5/19\n",
      "Draw: 5/1\n",
      "Wolverhampton: 19/2\n",
      "BK: QN\n",
      "BK bonuses: ['£35', '3']\n",
      "Man Utd: 2/7\n",
      "Draw: 5/1\n",
      "Wolverhampton: 10/1\n",
      "BK: N4\n",
      "BK bonuses: ['£20', '1']\n",
      "Man Utd: 13/50\n",
      "Draw: 49/10\n",
      "Wolverhampton: 21/2\n",
      "BK: WA\n",
      "BK bonuses: ['£30']\n",
      "Man Utd: 30/ 100\n",
      "Draw: 5/1\n",
      "Wolverhampton: 11/1\n",
      "BK: LD\n",
      "BK bonuses: ['£20', '1']\n",
      "Man Utd: 2/7\n",
      "Draw: 9/2\n",
      "Wolverhampton: 10/1\n",
      "BK: G5\n",
      "BK bonuses: ['£25']\n",
      "Man Utd: 2/7\n",
      "Draw: 5/1\n",
      "Wolverhampton: 10/1\n",
      "BK: RM\n",
      "BK bonuses: ['£20']\n",
      "Man Utd: 1/4\n",
      "Draw: 5/1\n",
      "Wolverhampton: 11/1\n",
      "BK: VT\n",
      "BK bonuses: ['£20']\n",
      "Man Utd: 5/18\n",
      "Draw: 26/5\n",
      "Wolverhampton: 10/1\n",
      "BK: BF\n",
      "BK bonuses: ['£20', '1']\n",
      "Man Utd: 1/3\n",
      "Draw: 26/5\n",
      "Wolverhampton: 59/5\n",
      "BK: MA\n",
      "BK bonuses: ['£20']\n",
      "Man Utd: 3/10\n",
      "Draw: 27/5\n",
      "Wolverhampton: 12/1\n"
     ]
    }
   ],
   "source": [
    "for tb in team_bets:\n",
    "    print(f\"BK: {tb[-1][-1]}\")\n",
    "    print(f\"BK bonuses: {tb[-1][0]}\")\n",
    "    print(f\"{teams_names[0]}: {tb[0][0]}\")\n",
    "    print(f\"{teams_names[1]}: {tb[1][0]}\")\n",
    "    print(f\"{teams_names[-1]}: {tb[2][0]}\")\n",
    "    print()\n",
    "    "
   ]
  },
  {
   "cell_type": "code",
   "execution_count": null,
   "metadata": {},
   "outputs": [],
   "source": []
  }
 ],
 "metadata": {
  "kernelspec": {
   "display_name": ".venv",
   "language": "python",
   "name": "python3"
  },
  "language_info": {
   "codemirror_mode": {
    "name": "ipython",
    "version": 3
   },
   "file_extension": ".py",
   "mimetype": "text/x-python",
   "name": "python",
   "nbconvert_exporter": "python",
   "pygments_lexer": "ipython3",
   "version": "3.11.4"
  },
  "orig_nbformat": 4
 },
 "nbformat": 4,
 "nbformat_minor": 2
}
